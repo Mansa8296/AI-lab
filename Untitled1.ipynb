{
  "nbformat": 4,
  "nbformat_minor": 0,
  "metadata": {
    "colab": {
      "provenance": []
    },
    "kernelspec": {
      "name": "python3",
      "display_name": "Python 3"
    },
    "language_info": {
      "name": "python"
    }
  },
  "cells": [
    {
      "cell_type": "code",
      "source": [
        "age = int(input(\"Enter age of x: \"))\n",
        "if age>=1 and age<=3:\n",
        "  print(\"x is a toddler\")\n",
        "elif age>=4 and age <=12:\n",
        "    print(\"x is a child\")\n",
        "elif age>=13 and age <=19:\n",
        "  print(\"x is a teenager\")\n",
        "elif age>=20 and age <=59:\n",
        "  print(\"x is an adult\")\n",
        "elif age>=60:\n",
        "  print(\"x is a senior citizen\")"
      ],
      "metadata": {
        "colab": {
          "base_uri": "https://localhost:8080/"
        },
        "id": "iBKLHcx5XUrB",
        "outputId": "50ad13ae-3684-472e-f044-8eefacb699e5"
      },
      "execution_count": 8,
      "outputs": [
        {
          "output_type": "stream",
          "name": "stdout",
          "text": [
            "Enter age of x: 40\n",
            "x is an adult\n"
          ]
        }
      ]
    },
    {
      "cell_type": "code",
      "source": [
        "num=int(input(\"enter the number:\"))\n",
        "for x in range(1,11):\n",
        "    print(num,\"x\",x,\"=\",x*num)"
      ],
      "metadata": {
        "colab": {
          "base_uri": "https://localhost:8080/"
        },
        "id": "o4-s3VZkat74",
        "outputId": "aa623f5c-997c-4082-bd10-8870d69fbe67"
      },
      "execution_count": 9,
      "outputs": [
        {
          "output_type": "stream",
          "name": "stdout",
          "text": [
            "enter the number:5\n",
            "5 x 1 = 5\n",
            "5 x 2 = 10\n",
            "5 x 3 = 15\n",
            "5 x 4 = 20\n",
            "5 x 5 = 25\n",
            "5 x 6 = 30\n",
            "5 x 7 = 35\n",
            "5 x 8 = 40\n",
            "5 x 9 = 45\n",
            "5 x 10 = 50\n"
          ]
        }
      ]
    },
    {
      "cell_type": "code",
      "source": [
        "num=int(input(\"enter the number:\"))\n",
        "for x in range(num):\n",
        "  n=x+1\n",
        "  for y in range(x+1):\n",
        "    print(n,end=\"\")\n",
        "  print(\"\\n\")"
      ],
      "metadata": {
        "colab": {
          "base_uri": "https://localhost:8080/"
        },
        "id": "cflBthMqctC4",
        "outputId": "408d70ea-1f20-4096-99ab-4e54716604dd"
      },
      "execution_count": 12,
      "outputs": [
        {
          "output_type": "stream",
          "name": "stdout",
          "text": [
            "enter the number:3\n",
            "1\n",
            "\n",
            "22\n",
            "\n",
            "333\n",
            "\n"
          ]
        }
      ]
    },
    {
      "cell_type": "code",
      "source": [
        "num=int(input(\"enter the number:\"))\n",
        "for x in range(num):\n",
        "  n=1\n",
        "  for y in range(x+1):\n",
        "    print(n,end=\"\")\n",
        "    n=n+1\n",
        "  print(\"\\n\")"
      ],
      "metadata": {
        "colab": {
          "base_uri": "https://localhost:8080/"
        },
        "id": "PnBj3I0yem-X",
        "outputId": "be5257e8-bbd5-44e1-aaf1-0723f9d5df4a"
      },
      "execution_count": 13,
      "outputs": [
        {
          "output_type": "stream",
          "name": "stdout",
          "text": [
            "enter the number:5\n",
            "1\n",
            "\n",
            "12\n",
            "\n",
            "123\n",
            "\n",
            "1234\n",
            "\n",
            "12345\n",
            "\n"
          ]
        }
      ]
    },
    {
      "cell_type": "code",
      "source": [
        "num=int(input(\"enter the number: \"))\n",
        "length=len(str(num))\n",
        "for x in range(length,-1,-1):\n",
        "  if x==0:\n",
        "    break\n",
        "  print(x,end=\"\")"
      ],
      "metadata": {
        "colab": {
          "base_uri": "https://localhost:8080/"
        },
        "id": "r82BBx2Vgldn",
        "outputId": "afcd8bc1-beaa-4073-8cc5-dde11b0578a4"
      },
      "execution_count": 18,
      "outputs": [
        {
          "output_type": "stream",
          "name": "stdout",
          "text": [
            "enter the number: 3456\n",
            "4321"
          ]
        }
      ]
    },
    {
      "cell_type": "code",
      "source": [],
      "metadata": {
        "id": "tYvDeUkCkI23"
      },
      "execution_count": null,
      "outputs": []
    }
  ]
}